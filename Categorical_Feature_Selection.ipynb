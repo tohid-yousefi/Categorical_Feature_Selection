{
  "nbformat": 4,
  "nbformat_minor": 0,
  "metadata": {
    "colab": {
      "provenance": []
    },
    "kernelspec": {
      "name": "python3",
      "display_name": "Python 3"
    },
    "language_info": {
      "name": "python"
    }
  },
  "cells": [
    {
      "cell_type": "markdown",
      "source": [
        "# Feature Selection\n",
        "\n",
        "**Feature selection** is the process of selecting a subset of relevant features from a larger set to improve model performance or reduce computational complexity. *Types of feature selection* refers to various methodologies or approaches used to select a subset of features from the original feature set. These methodologies can be broadly categorized into three main types:\n",
        "\n",
        "* Filter Methods\n",
        "* Wrapper Methods\n",
        "* Embedded Methods"
      ],
      "metadata": {
        "id": "NSzSmpplbQ0f"
      }
    },
    {
      "cell_type": "markdown",
      "source": [
        "# Categorical Feature Selection"
      ],
      "metadata": {
        "id": "OGVacqU32Ktm"
      }
    },
    {
      "cell_type": "markdown",
      "source": [
        "# Import Necessary Librares"
      ],
      "metadata": {
        "id": "lq0mlhut2SX-"
      }
    },
    {
      "cell_type": "code",
      "execution_count": null,
      "metadata": {
        "id": "Pydm22Ff2G59"
      },
      "outputs": [],
      "source": [
        "import numpy as np\n",
        "import pandas as pd\n",
        "pd.set_option(\"display.max_columns\", None)\n",
        "pd.set_option(\"display.max_rows\", None)\n",
        "pd.set_option(\"display.width\", 500)\n",
        "pd.set_option(\"display.float_format\", lambda x: \"%.4f\" % x)\n",
        "\n",
        "import matplotlib.pyplot as plt\n",
        "from sklearn.model_selection import train_test_split\n",
        "from sklearn.preprocessing import LabelEncoder # for y_ytain\n",
        "from sklearn.preprocessing import OrdinalEncoder # for x_train\n",
        "from sklearn.feature_selection import SelectKBest\n",
        "from sklearn.feature_selection import f_classif\n",
        "from sklearn.feature_selection import chi2\n",
        "from sklearn.feature_selection import mutual_info_classif"
      ]
    },
    {
      "cell_type": "markdown",
      "source": [
        "# Import Dataset"
      ],
      "metadata": {
        "id": "elRn9fv32rmB"
      }
    },
    {
      "cell_type": "code",
      "source": [
        "df = pd.read_csv(\"/content/drive/MyDrive/Colab Notebooks/datasets/breast_cancer_all_categorical.csv\", header=None)\n",
        "df.head()"
      ],
      "metadata": {
        "colab": {
          "base_uri": "https://localhost:8080/",
          "height": 206
        },
        "id": "_adGTAN22pd4",
        "outputId": "ccf20b82-b020-4d7f-9970-f3f5230c041c"
      },
      "execution_count": null,
      "outputs": [
        {
          "output_type": "execute_result",
          "data": {
            "text/plain": [
              "         0          1        2      3      4    5        6           7      8                       9\n",
              "0  '40-49'  'premeno'  '15-19'  '0-2'  'yes'  '3'  'right'   'left_up'   'no'     'recurrence-events'\n",
              "1  '50-59'     'ge40'  '15-19'  '0-2'   'no'  '1'  'right'   'central'   'no'  'no-recurrence-events'\n",
              "2  '50-59'     'ge40'  '35-39'  '0-2'   'no'  '2'   'left'  'left_low'   'no'     'recurrence-events'\n",
              "3  '40-49'  'premeno'  '35-39'  '0-2'  'yes'  '3'  'right'  'left_low'  'yes'  'no-recurrence-events'\n",
              "4  '40-49'  'premeno'  '30-34'  '3-5'  'yes'  '2'   'left'  'right_up'   'no'     'recurrence-events'"
            ],
            "text/html": [
              "\n",
              "  <div id=\"df-e718eb10-9c3c-4ae4-9c08-6cf9f0e0aff8\" class=\"colab-df-container\">\n",
              "    <div>\n",
              "<style scoped>\n",
              "    .dataframe tbody tr th:only-of-type {\n",
              "        vertical-align: middle;\n",
              "    }\n",
              "\n",
              "    .dataframe tbody tr th {\n",
              "        vertical-align: top;\n",
              "    }\n",
              "\n",
              "    .dataframe thead th {\n",
              "        text-align: right;\n",
              "    }\n",
              "</style>\n",
              "<table border=\"1\" class=\"dataframe\">\n",
              "  <thead>\n",
              "    <tr style=\"text-align: right;\">\n",
              "      <th></th>\n",
              "      <th>0</th>\n",
              "      <th>1</th>\n",
              "      <th>2</th>\n",
              "      <th>3</th>\n",
              "      <th>4</th>\n",
              "      <th>5</th>\n",
              "      <th>6</th>\n",
              "      <th>7</th>\n",
              "      <th>8</th>\n",
              "      <th>9</th>\n",
              "    </tr>\n",
              "  </thead>\n",
              "  <tbody>\n",
              "    <tr>\n",
              "      <th>0</th>\n",
              "      <td>'40-49'</td>\n",
              "      <td>'premeno'</td>\n",
              "      <td>'15-19'</td>\n",
              "      <td>'0-2'</td>\n",
              "      <td>'yes'</td>\n",
              "      <td>'3'</td>\n",
              "      <td>'right'</td>\n",
              "      <td>'left_up'</td>\n",
              "      <td>'no'</td>\n",
              "      <td>'recurrence-events'</td>\n",
              "    </tr>\n",
              "    <tr>\n",
              "      <th>1</th>\n",
              "      <td>'50-59'</td>\n",
              "      <td>'ge40'</td>\n",
              "      <td>'15-19'</td>\n",
              "      <td>'0-2'</td>\n",
              "      <td>'no'</td>\n",
              "      <td>'1'</td>\n",
              "      <td>'right'</td>\n",
              "      <td>'central'</td>\n",
              "      <td>'no'</td>\n",
              "      <td>'no-recurrence-events'</td>\n",
              "    </tr>\n",
              "    <tr>\n",
              "      <th>2</th>\n",
              "      <td>'50-59'</td>\n",
              "      <td>'ge40'</td>\n",
              "      <td>'35-39'</td>\n",
              "      <td>'0-2'</td>\n",
              "      <td>'no'</td>\n",
              "      <td>'2'</td>\n",
              "      <td>'left'</td>\n",
              "      <td>'left_low'</td>\n",
              "      <td>'no'</td>\n",
              "      <td>'recurrence-events'</td>\n",
              "    </tr>\n",
              "    <tr>\n",
              "      <th>3</th>\n",
              "      <td>'40-49'</td>\n",
              "      <td>'premeno'</td>\n",
              "      <td>'35-39'</td>\n",
              "      <td>'0-2'</td>\n",
              "      <td>'yes'</td>\n",
              "      <td>'3'</td>\n",
              "      <td>'right'</td>\n",
              "      <td>'left_low'</td>\n",
              "      <td>'yes'</td>\n",
              "      <td>'no-recurrence-events'</td>\n",
              "    </tr>\n",
              "    <tr>\n",
              "      <th>4</th>\n",
              "      <td>'40-49'</td>\n",
              "      <td>'premeno'</td>\n",
              "      <td>'30-34'</td>\n",
              "      <td>'3-5'</td>\n",
              "      <td>'yes'</td>\n",
              "      <td>'2'</td>\n",
              "      <td>'left'</td>\n",
              "      <td>'right_up'</td>\n",
              "      <td>'no'</td>\n",
              "      <td>'recurrence-events'</td>\n",
              "    </tr>\n",
              "  </tbody>\n",
              "</table>\n",
              "</div>\n",
              "    <div class=\"colab-df-buttons\">\n",
              "\n",
              "  <div class=\"colab-df-container\">\n",
              "    <button class=\"colab-df-convert\" onclick=\"convertToInteractive('df-e718eb10-9c3c-4ae4-9c08-6cf9f0e0aff8')\"\n",
              "            title=\"Convert this dataframe to an interactive table.\"\n",
              "            style=\"display:none;\">\n",
              "\n",
              "  <svg xmlns=\"http://www.w3.org/2000/svg\" height=\"24px\" viewBox=\"0 -960 960 960\">\n",
              "    <path d=\"M120-120v-720h720v720H120Zm60-500h600v-160H180v160Zm220 220h160v-160H400v160Zm0 220h160v-160H400v160ZM180-400h160v-160H180v160Zm440 0h160v-160H620v160ZM180-180h160v-160H180v160Zm440 0h160v-160H620v160Z\"/>\n",
              "  </svg>\n",
              "    </button>\n",
              "\n",
              "  <style>\n",
              "    .colab-df-container {\n",
              "      display:flex;\n",
              "      gap: 12px;\n",
              "    }\n",
              "\n",
              "    .colab-df-convert {\n",
              "      background-color: #E8F0FE;\n",
              "      border: none;\n",
              "      border-radius: 50%;\n",
              "      cursor: pointer;\n",
              "      display: none;\n",
              "      fill: #1967D2;\n",
              "      height: 32px;\n",
              "      padding: 0 0 0 0;\n",
              "      width: 32px;\n",
              "    }\n",
              "\n",
              "    .colab-df-convert:hover {\n",
              "      background-color: #E2EBFA;\n",
              "      box-shadow: 0px 1px 2px rgba(60, 64, 67, 0.3), 0px 1px 3px 1px rgba(60, 64, 67, 0.15);\n",
              "      fill: #174EA6;\n",
              "    }\n",
              "\n",
              "    .colab-df-buttons div {\n",
              "      margin-bottom: 4px;\n",
              "    }\n",
              "\n",
              "    [theme=dark] .colab-df-convert {\n",
              "      background-color: #3B4455;\n",
              "      fill: #D2E3FC;\n",
              "    }\n",
              "\n",
              "    [theme=dark] .colab-df-convert:hover {\n",
              "      background-color: #434B5C;\n",
              "      box-shadow: 0px 1px 3px 1px rgba(0, 0, 0, 0.15);\n",
              "      filter: drop-shadow(0px 1px 2px rgba(0, 0, 0, 0.3));\n",
              "      fill: #FFFFFF;\n",
              "    }\n",
              "  </style>\n",
              "\n",
              "    <script>\n",
              "      const buttonEl =\n",
              "        document.querySelector('#df-e718eb10-9c3c-4ae4-9c08-6cf9f0e0aff8 button.colab-df-convert');\n",
              "      buttonEl.style.display =\n",
              "        google.colab.kernel.accessAllowed ? 'block' : 'none';\n",
              "\n",
              "      async function convertToInteractive(key) {\n",
              "        const element = document.querySelector('#df-e718eb10-9c3c-4ae4-9c08-6cf9f0e0aff8');\n",
              "        const dataTable =\n",
              "          await google.colab.kernel.invokeFunction('convertToInteractive',\n",
              "                                                    [key], {});\n",
              "        if (!dataTable) return;\n",
              "\n",
              "        const docLinkHtml = 'Like what you see? Visit the ' +\n",
              "          '<a target=\"_blank\" href=https://colab.research.google.com/notebooks/data_table.ipynb>data table notebook</a>'\n",
              "          + ' to learn more about interactive tables.';\n",
              "        element.innerHTML = '';\n",
              "        dataTable['output_type'] = 'display_data';\n",
              "        await google.colab.output.renderOutput(dataTable, element);\n",
              "        const docLink = document.createElement('div');\n",
              "        docLink.innerHTML = docLinkHtml;\n",
              "        element.appendChild(docLink);\n",
              "      }\n",
              "    </script>\n",
              "  </div>\n",
              "\n",
              "\n",
              "<div id=\"df-082083ae-0044-4f42-a950-4da5a6075d1e\">\n",
              "  <button class=\"colab-df-quickchart\" onclick=\"quickchart('df-082083ae-0044-4f42-a950-4da5a6075d1e')\"\n",
              "            title=\"Suggest charts\"\n",
              "            style=\"display:none;\">\n",
              "\n",
              "<svg xmlns=\"http://www.w3.org/2000/svg\" height=\"24px\"viewBox=\"0 0 24 24\"\n",
              "     width=\"24px\">\n",
              "    <g>\n",
              "        <path d=\"M19 3H5c-1.1 0-2 .9-2 2v14c0 1.1.9 2 2 2h14c1.1 0 2-.9 2-2V5c0-1.1-.9-2-2-2zM9 17H7v-7h2v7zm4 0h-2V7h2v10zm4 0h-2v-4h2v4z\"/>\n",
              "    </g>\n",
              "</svg>\n",
              "  </button>\n",
              "\n",
              "<style>\n",
              "  .colab-df-quickchart {\n",
              "      --bg-color: #E8F0FE;\n",
              "      --fill-color: #1967D2;\n",
              "      --hover-bg-color: #E2EBFA;\n",
              "      --hover-fill-color: #174EA6;\n",
              "      --disabled-fill-color: #AAA;\n",
              "      --disabled-bg-color: #DDD;\n",
              "  }\n",
              "\n",
              "  [theme=dark] .colab-df-quickchart {\n",
              "      --bg-color: #3B4455;\n",
              "      --fill-color: #D2E3FC;\n",
              "      --hover-bg-color: #434B5C;\n",
              "      --hover-fill-color: #FFFFFF;\n",
              "      --disabled-bg-color: #3B4455;\n",
              "      --disabled-fill-color: #666;\n",
              "  }\n",
              "\n",
              "  .colab-df-quickchart {\n",
              "    background-color: var(--bg-color);\n",
              "    border: none;\n",
              "    border-radius: 50%;\n",
              "    cursor: pointer;\n",
              "    display: none;\n",
              "    fill: var(--fill-color);\n",
              "    height: 32px;\n",
              "    padding: 0;\n",
              "    width: 32px;\n",
              "  }\n",
              "\n",
              "  .colab-df-quickchart:hover {\n",
              "    background-color: var(--hover-bg-color);\n",
              "    box-shadow: 0 1px 2px rgba(60, 64, 67, 0.3), 0 1px 3px 1px rgba(60, 64, 67, 0.15);\n",
              "    fill: var(--button-hover-fill-color);\n",
              "  }\n",
              "\n",
              "  .colab-df-quickchart-complete:disabled,\n",
              "  .colab-df-quickchart-complete:disabled:hover {\n",
              "    background-color: var(--disabled-bg-color);\n",
              "    fill: var(--disabled-fill-color);\n",
              "    box-shadow: none;\n",
              "  }\n",
              "\n",
              "  .colab-df-spinner {\n",
              "    border: 2px solid var(--fill-color);\n",
              "    border-color: transparent;\n",
              "    border-bottom-color: var(--fill-color);\n",
              "    animation:\n",
              "      spin 1s steps(1) infinite;\n",
              "  }\n",
              "\n",
              "  @keyframes spin {\n",
              "    0% {\n",
              "      border-color: transparent;\n",
              "      border-bottom-color: var(--fill-color);\n",
              "      border-left-color: var(--fill-color);\n",
              "    }\n",
              "    20% {\n",
              "      border-color: transparent;\n",
              "      border-left-color: var(--fill-color);\n",
              "      border-top-color: var(--fill-color);\n",
              "    }\n",
              "    30% {\n",
              "      border-color: transparent;\n",
              "      border-left-color: var(--fill-color);\n",
              "      border-top-color: var(--fill-color);\n",
              "      border-right-color: var(--fill-color);\n",
              "    }\n",
              "    40% {\n",
              "      border-color: transparent;\n",
              "      border-right-color: var(--fill-color);\n",
              "      border-top-color: var(--fill-color);\n",
              "    }\n",
              "    60% {\n",
              "      border-color: transparent;\n",
              "      border-right-color: var(--fill-color);\n",
              "    }\n",
              "    80% {\n",
              "      border-color: transparent;\n",
              "      border-right-color: var(--fill-color);\n",
              "      border-bottom-color: var(--fill-color);\n",
              "    }\n",
              "    90% {\n",
              "      border-color: transparent;\n",
              "      border-bottom-color: var(--fill-color);\n",
              "    }\n",
              "  }\n",
              "</style>\n",
              "\n",
              "  <script>\n",
              "    async function quickchart(key) {\n",
              "      const quickchartButtonEl =\n",
              "        document.querySelector('#' + key + ' button');\n",
              "      quickchartButtonEl.disabled = true;  // To prevent multiple clicks.\n",
              "      quickchartButtonEl.classList.add('colab-df-spinner');\n",
              "      try {\n",
              "        const charts = await google.colab.kernel.invokeFunction(\n",
              "            'suggestCharts', [key], {});\n",
              "      } catch (error) {\n",
              "        console.error('Error during call to suggestCharts:', error);\n",
              "      }\n",
              "      quickchartButtonEl.classList.remove('colab-df-spinner');\n",
              "      quickchartButtonEl.classList.add('colab-df-quickchart-complete');\n",
              "    }\n",
              "    (() => {\n",
              "      let quickchartButtonEl =\n",
              "        document.querySelector('#df-082083ae-0044-4f42-a950-4da5a6075d1e button');\n",
              "      quickchartButtonEl.style.display =\n",
              "        google.colab.kernel.accessAllowed ? 'block' : 'none';\n",
              "    })();\n",
              "  </script>\n",
              "</div>\n",
              "\n",
              "    </div>\n",
              "  </div>\n"
            ],
            "application/vnd.google.colaboratory.intrinsic+json": {
              "type": "dataframe",
              "variable_name": "df",
              "summary": "{\n  \"name\": \"df\",\n  \"rows\": 286,\n  \"fields\": [\n    {\n      \"column\": 0,\n      \"properties\": {\n        \"dtype\": \"category\",\n        \"num_unique_values\": 6,\n        \"samples\": [\n          \"'40-49'\",\n          \"'50-59'\",\n          \"'20-29'\"\n        ],\n        \"semantic_type\": \"\",\n        \"description\": \"\"\n      }\n    },\n    {\n      \"column\": 1,\n      \"properties\": {\n        \"dtype\": \"category\",\n        \"num_unique_values\": 3,\n        \"samples\": [\n          \"'premeno'\",\n          \"'ge40'\",\n          \"'lt40'\"\n        ],\n        \"semantic_type\": \"\",\n        \"description\": \"\"\n      }\n    },\n    {\n      \"column\": 2,\n      \"properties\": {\n        \"dtype\": \"category\",\n        \"num_unique_values\": 11,\n        \"samples\": [\n          \"'10-14'\",\n          \"'15-19'\",\n          \"'50-54'\"\n        ],\n        \"semantic_type\": \"\",\n        \"description\": \"\"\n      }\n    },\n    {\n      \"column\": 3,\n      \"properties\": {\n        \"dtype\": \"category\",\n        \"num_unique_values\": 7,\n        \"samples\": [\n          \"'0-2'\",\n          \"'3-5'\",\n          \"'24-26'\"\n        ],\n        \"semantic_type\": \"\",\n        \"description\": \"\"\n      }\n    },\n    {\n      \"column\": 4,\n      \"properties\": {\n        \"dtype\": \"category\",\n        \"num_unique_values\": 2,\n        \"samples\": [\n          \"'no'\",\n          \"'yes'\"\n        ],\n        \"semantic_type\": \"\",\n        \"description\": \"\"\n      }\n    },\n    {\n      \"column\": 5,\n      \"properties\": {\n        \"dtype\": \"category\",\n        \"num_unique_values\": 3,\n        \"samples\": [\n          \"'3'\",\n          \"'1'\"\n        ],\n        \"semantic_type\": \"\",\n        \"description\": \"\"\n      }\n    },\n    {\n      \"column\": 6,\n      \"properties\": {\n        \"dtype\": \"category\",\n        \"num_unique_values\": 2,\n        \"samples\": [\n          \"'left'\",\n          \"'right'\"\n        ],\n        \"semantic_type\": \"\",\n        \"description\": \"\"\n      }\n    },\n    {\n      \"column\": 7,\n      \"properties\": {\n        \"dtype\": \"category\",\n        \"num_unique_values\": 5,\n        \"samples\": [\n          \"'central'\",\n          \"'right_low'\"\n        ],\n        \"semantic_type\": \"\",\n        \"description\": \"\"\n      }\n    },\n    {\n      \"column\": 8,\n      \"properties\": {\n        \"dtype\": \"category\",\n        \"num_unique_values\": 2,\n        \"samples\": [\n          \"'yes'\",\n          \"'no'\"\n        ],\n        \"semantic_type\": \"\",\n        \"description\": \"\"\n      }\n    },\n    {\n      \"column\": 9,\n      \"properties\": {\n        \"dtype\": \"category\",\n        \"num_unique_values\": 2,\n        \"samples\": [\n          \"'no-recurrence-events'\",\n          \"'recurrence-events'\"\n        ],\n        \"semantic_type\": \"\",\n        \"description\": \"\"\n      }\n    }\n  ]\n}"
            }
          },
          "metadata": {},
          "execution_count": 7
        }
      ]
    },
    {
      "cell_type": "code",
      "source": [
        "def load_dataset(dir):\n",
        "  df = pd.read_csv(dir)\n",
        "  df_values = df.values\n",
        "  samples = df_values[:,:-1]\n",
        "  samples = samples.astype(str)\n",
        "  target = df_values[:,-1]\n",
        "  return samples, target"
      ],
      "metadata": {
        "id": "Q8nGDmj63aaE"
      },
      "execution_count": null,
      "outputs": []
    },
    {
      "cell_type": "code",
      "source": [
        "samples, target = load_dataset(\"/content/drive/MyDrive/Colab Notebooks/datasets/breast_cancer_all_categorical.csv\")"
      ],
      "metadata": {
        "id": "RFmSR49uAOX6"
      },
      "execution_count": null,
      "outputs": []
    },
    {
      "cell_type": "code",
      "source": [
        "samples[0:10]"
      ],
      "metadata": {
        "colab": {
          "base_uri": "https://localhost:8080/"
        },
        "id": "RFKSyF8VAUNK",
        "outputId": "fe841171-d2a6-4c27-9a34-65c6cb081d9f"
      },
      "execution_count": null,
      "outputs": [
        {
          "output_type": "execute_result",
          "data": {
            "text/plain": [
              "array([[\"'50-59'\", \"'ge40'\", \"'15-19'\", \"'0-2'\", \"'no'\", \"'1'\",\n",
              "        \"'right'\", \"'central'\", \"'no'\"],\n",
              "       [\"'50-59'\", \"'ge40'\", \"'35-39'\", \"'0-2'\", \"'no'\", \"'2'\", \"'left'\",\n",
              "        \"'left_low'\", \"'no'\"],\n",
              "       [\"'40-49'\", \"'premeno'\", \"'35-39'\", \"'0-2'\", \"'yes'\", \"'3'\",\n",
              "        \"'right'\", \"'left_low'\", \"'yes'\"],\n",
              "       [\"'40-49'\", \"'premeno'\", \"'30-34'\", \"'3-5'\", \"'yes'\", \"'2'\",\n",
              "        \"'left'\", \"'right_up'\", \"'no'\"],\n",
              "       [\"'50-59'\", \"'premeno'\", \"'25-29'\", \"'3-5'\", \"'no'\", \"'2'\",\n",
              "        \"'right'\", \"'left_up'\", \"'yes'\"],\n",
              "       [\"'50-59'\", \"'ge40'\", \"'40-44'\", \"'0-2'\", \"'no'\", \"'3'\", \"'left'\",\n",
              "        \"'left_up'\", \"'no'\"],\n",
              "       [\"'40-49'\", \"'premeno'\", \"'10-14'\", \"'0-2'\", \"'no'\", \"'2'\",\n",
              "        \"'left'\", \"'left_up'\", \"'no'\"],\n",
              "       [\"'40-49'\", \"'premeno'\", \"'0-4'\", \"'0-2'\", \"'no'\", \"'2'\",\n",
              "        \"'right'\", \"'right_low'\", \"'no'\"],\n",
              "       [\"'40-49'\", \"'ge40'\", \"'40-44'\", \"'15-17'\", \"'yes'\", \"'2'\",\n",
              "        \"'right'\", \"'left_up'\", \"'yes'\"],\n",
              "       [\"'50-59'\", \"'premeno'\", \"'25-29'\", \"'0-2'\", \"'no'\", \"'2'\",\n",
              "        \"'left'\", \"'left_low'\", \"'no'\"]], dtype='<U11')"
            ]
          },
          "metadata": {},
          "execution_count": 5
        }
      ]
    },
    {
      "cell_type": "code",
      "source": [
        "target[0:10]"
      ],
      "metadata": {
        "colab": {
          "base_uri": "https://localhost:8080/"
        },
        "id": "lz1tziD9AVKO",
        "outputId": "a3560260-0f37-41c2-d167-01b1cde4a5be"
      },
      "execution_count": null,
      "outputs": [
        {
          "output_type": "execute_result",
          "data": {
            "text/plain": [
              "array([\"'no-recurrence-events'\", \"'recurrence-events'\",\n",
              "       \"'no-recurrence-events'\", \"'recurrence-events'\",\n",
              "       \"'no-recurrence-events'\", \"'no-recurrence-events'\",\n",
              "       \"'no-recurrence-events'\", \"'no-recurrence-events'\",\n",
              "       \"'no-recurrence-events'\", \"'no-recurrence-events'\"], dtype=object)"
            ]
          },
          "metadata": {},
          "execution_count": 6
        }
      ]
    },
    {
      "cell_type": "markdown",
      "source": [
        "# Split Dataset"
      ],
      "metadata": {
        "id": "mJxzg150Sx4T"
      }
    },
    {
      "cell_type": "code",
      "source": [
        "def create_train_test(dir, test_size=0.33):\n",
        "  samples, target = load_dataset(dir)\n",
        "  x_train, x_test, y_train, y_test = train_test_split(samples, target, test_size=test_size, random_state=1)\n",
        "  return x_train, x_test, y_train, y_test"
      ],
      "metadata": {
        "id": "BrQr-pFQC_a6"
      },
      "execution_count": null,
      "outputs": []
    },
    {
      "cell_type": "code",
      "source": [
        "x_train, x_test, y_train, y_test = create_train_test(\"/content/drive/MyDrive/Colab Notebooks/datasets/breast_cancer_all_categorical.csv\")"
      ],
      "metadata": {
        "id": "3ra596QXon3u"
      },
      "execution_count": null,
      "outputs": []
    },
    {
      "cell_type": "markdown",
      "source": [
        "# Encoding"
      ],
      "metadata": {
        "id": "qbGLpxFsopHJ"
      }
    },
    {
      "cell_type": "code",
      "source": [
        "def Data_Encoding(x_train, x_test):\n",
        "  encoder_model = OrdinalEncoder()\n",
        "  x_train = encoder_model.fit_transform(x_train)\n",
        "  x_test = encoder_model.fit_transform(x_test)\n",
        "  return x_train, x_test"
      ],
      "metadata": {
        "id": "aVyHJEMpoqgj"
      },
      "execution_count": null,
      "outputs": []
    },
    {
      "cell_type": "code",
      "source": [
        "def Label_Encoding(y_train, y_test):\n",
        "  encoder_model = LabelEncoder()\n",
        "  y_train = encoder_model.fit_transform(y_train)\n",
        "  y_test = encoder_model.fit_transform(y_test)\n",
        "  return y_train, y_test"
      ],
      "metadata": {
        "id": "Lv_tlTmGpWEv"
      },
      "execution_count": null,
      "outputs": []
    },
    {
      "cell_type": "code",
      "source": [
        "X_train, X_test = Data_Encoding(x_train, x_test)\n",
        "Y_train, Y_test = Label_Encoding(y_train, y_test)"
      ],
      "metadata": {
        "id": "n4CRg9Wfp9BN"
      },
      "execution_count": null,
      "outputs": []
    },
    {
      "cell_type": "markdown",
      "source": [
        "# Filter Based Feature Selection"
      ],
      "metadata": {
        "id": "6kmNR58RS1mj"
      }
    },
    {
      "cell_type": "code",
      "source": [
        "def filter_based_feature_selection(x_train, y_train, x_test, score_func):\n",
        "  model = SelectKBest(score_func=score_func, k='all')\n",
        "  model.fit(x_train, y_train)\n",
        "  x_train_model = model.transform(x_train)\n",
        "  x_test_model = model.transform(x_test)\n",
        "  return x_train_model, x_test_model, model"
      ],
      "metadata": {
        "id": "Kt2JGa_IAW2N"
      },
      "execution_count": null,
      "outputs": []
    },
    {
      "cell_type": "code",
      "source": [
        "x_train_model, x_test_model, model = filter_based_feature_selection(X_train, Y_train, X_test, score_func=f_classif)"
      ],
      "metadata": {
        "id": "qrejIhJJEKMc"
      },
      "execution_count": null,
      "outputs": []
    },
    {
      "cell_type": "code",
      "source": [
        "for i in range(len(model.scores_)):\n",
        "  print(f\"Feature: {i} Score: {model.scores_[i]}\")\n"
      ],
      "metadata": {
        "colab": {
          "base_uri": "https://localhost:8080/"
        },
        "id": "_fzERl4VEK6I",
        "outputId": "04592ee6-0998-4e46-d48b-e441744fdcea"
      },
      "execution_count": null,
      "outputs": [
        {
          "output_type": "stream",
          "name": "stdout",
          "text": [
            "Feature: 0 Score: 0.26461155079705156\n",
            "Feature: 1 Score: 0.35568561311861524\n",
            "Feature: 2 Score: 6.510560666845982\n",
            "Feature: 3 Score: 11.397986171323902\n",
            "Feature: 4 Score: 6.900353678149434\n",
            "Feature: 5 Score: 12.47028588356106\n",
            "Feature: 6 Score: 1.8861077130075228\n",
            "Feature: 7 Score: 3.731022010290476\n",
            "Feature: 8 Score: 8.794624481304718\n"
          ]
        }
      ]
    },
    {
      "cell_type": "markdown",
      "source": [
        "# Plot Results"
      ],
      "metadata": {
        "id": "oeAr81XfRlkg"
      }
    },
    {
      "cell_type": "code",
      "source": [
        "def plot_results(model, plot=True):\n",
        "  output = pd.Series(model.scores_)\n",
        "  output = output.sort_values(ascending=False)\n",
        "  print(\"Features and Scores\")\n",
        "  for i, out in enumerate(output):\n",
        "    print(f\"Feature: {output.index[i]} Score: {out}\")\n",
        "\n",
        "  if plot:\n",
        "    plt.bar([i for i in range(len(model.scores_))], model.scores_)\n",
        "    plt.show()"
      ],
      "metadata": {
        "id": "XcsJMB_3EoRN"
      },
      "execution_count": null,
      "outputs": []
    },
    {
      "cell_type": "code",
      "source": [
        "plot_results(model)"
      ],
      "metadata": {
        "colab": {
          "base_uri": "https://localhost:8080/",
          "height": 607
        },
        "id": "GiUroc-hGUFi",
        "outputId": "e1b08c1f-8098-4739-99c7-b07475093942"
      },
      "execution_count": null,
      "outputs": [
        {
          "output_type": "stream",
          "name": "stdout",
          "text": [
            "Features and Scores\n",
            "Feature: 5 Score: 12.47028588356106\n",
            "Feature: 3 Score: 11.397986171323902\n",
            "Feature: 8 Score: 8.794624481304718\n",
            "Feature: 4 Score: 6.900353678149434\n",
            "Feature: 2 Score: 6.510560666845982\n",
            "Feature: 7 Score: 3.731022010290476\n",
            "Feature: 6 Score: 1.8861077130075228\n",
            "Feature: 1 Score: 0.35568561311861524\n",
            "Feature: 0 Score: 0.26461155079705156\n"
          ]
        },
        {
          "output_type": "display_data",
          "data": {
            "text/plain": [
              "<Figure size 640x480 with 1 Axes>"
            ],
            "image/png": "[encoded data removed]"
          },
          "metadata": {}
        }
      ]
    },
    {
      "cell_type": "markdown",
      "source": [
        "# Process Functionalization"
      ],
      "metadata": {
        "id": "KdxM9IxkS7ti"
      }
    },
    {
      "cell_type": "code",
      "source": [
        "def filter_based_FS(dir, score_func, test_size=0.33, plot=True):\n",
        "  # Load Dataset\n",
        "  df = pd.read_csv(dir)\n",
        "  df_values = df.values\n",
        "  samples = df_values[:,:-1]\n",
        "  samples = samples.astype(str)\n",
        "  target = df_values[:,-1]\n",
        "\n",
        "  # Split Dataset\n",
        "  x_train, x_test, y_train, y_test = train_test_split(samples, target, test_size=test_size, random_state=1)\n",
        "\n",
        "  # Encoding\n",
        "  encoder_model = OrdinalEncoder()\n",
        "  X_train = encoder_model.fit_transform(x_train)\n",
        "  X_test = encoder_model.fit_transform(x_test)\n",
        "\n",
        "  encoder_model = LabelEncoder()\n",
        "  Y_train = encoder_model.fit_transform(y_train)\n",
        "  Y_test = encoder_model.fit_transform(y_test)\n",
        "\n",
        "  # Filter Based Methods\n",
        "  model = SelectKBest(score_func=score_func, k='all')\n",
        "  model.fit(X_train, Y_train)\n",
        "  x_train_model = model.transform(X_train)\n",
        "  x_test_model = model.transform(X_test)\n",
        "\n",
        "  # Plot Results\n",
        "  output = pd.Series(model.scores_)\n",
        "  output = output.sort_values(ascending=False)\n",
        "  print(\"Features and Scores\")\n",
        "  for i, out in enumerate(output):\n",
        "    print(f\"Feature: {output.index[i]} Score: {out}\")\n",
        "\n",
        "  if plot:\n",
        "    plt.bar([i for i in range(len(model.scores_))], model.scores_)\n",
        "    plt.title(f\"Feature Importance for Score Function: {score_func.__name__}\")\n",
        "    plt.xlabel(\"Feature Index\")\n",
        "    plt.ylabel(\"Score\")\n",
        "    plt.show()"
      ],
      "metadata": {
        "id": "r4ljhbLwLGej"
      },
      "execution_count": null,
      "outputs": []
    },
    {
      "cell_type": "code",
      "source": [
        "dir = \"/content/drive/MyDrive/Colab Notebooks/datasets/breast_cancer_all_categorical.csv\"\n",
        "filter_based_FS(dir, score_func=f_classif)"
      ],
      "metadata": {
        "colab": {
          "base_uri": "https://localhost:8080/",
          "height": 649
        },
        "id": "V_-hxpYMUoff",
        "outputId": "2c73a852-6ef1-427b-9d93-5993ab4ee1bb"
      },
      "execution_count": null,
      "outputs": [
        {
          "output_type": "stream",
          "name": "stdout",
          "text": [
            "Features and Scores\n",
            "Feature: 5 Score: 12.47028588356106\n",
            "Feature: 3 Score: 11.397986171323902\n",
            "Feature: 8 Score: 8.794624481304718\n",
            "Feature: 4 Score: 6.900353678149434\n",
            "Feature: 2 Score: 6.510560666845982\n",
            "Feature: 7 Score: 3.731022010290476\n",
            "Feature: 6 Score: 1.8861077130075228\n",
            "Feature: 1 Score: 0.35568561311861524\n",
            "Feature: 0 Score: 0.26461155079705156\n"
          ]
        },
        {
          "output_type": "display_data",
          "data": {
            "text/plain": [
              "<Figure size 640x480 with 1 Axes>"
            ],
            "image/png": "[encoded data removed]"
          },
          "metadata": {}
        }
      ]
    },
    {
      "cell_type": "code",
      "source": [
        "def filter_based_FS(dir, score_funcs, test_size=0.33, plot=True):\n",
        "    # Load Dataset\n",
        "    df = pd.read_csv(dir)\n",
        "    df_values = df.values\n",
        "    samples = df_values[:,:-1]\n",
        "    samples = samples.astype(str)\n",
        "    target = df_values[:,-1]\n",
        "\n",
        "    # Split Dataset\n",
        "    x_train, x_test, y_train, y_test = train_test_split(samples, target, test_size=test_size, random_state=1)\n",
        "\n",
        "    # Encoding\n",
        "    encoder_model = OrdinalEncoder()\n",
        "    X_train = encoder_model.fit_transform(x_train)\n",
        "    X_test = encoder_model.fit_transform(x_test)\n",
        "\n",
        "    encoder_model = LabelEncoder()\n",
        "    Y_train = encoder_model.fit_transform(y_train)\n",
        "    Y_test = encoder_model.fit_transform(y_test)\n",
        "\n",
        "    for score_func in score_funcs:\n",
        "        # Filter Based Methods\n",
        "        model = SelectKBest(score_func=score_func, k='all')\n",
        "        model.fit(X_train, Y_train)\n",
        "        x_train_model = model.transform(X_train)\n",
        "        x_test_model = model.transform(X_test)\n",
        "\n",
        "        # Plot Results\n",
        "        output = pd.Series(model.scores_)\n",
        "        output = output.sort_values(ascending=False)\n",
        "        print(f\"Features and Scores for Score Function: {score_func.__name__}\")\n",
        "        for i, out in enumerate(output):\n",
        "            print(f\"Feature: {output.index[i]} Score: {out}\")\n",
        "\n",
        "        if plot:\n",
        "            plt.figure(figsize=(8, 6))\n",
        "            plt.bar([i for i in range(len(model.scores_))], model.scores_)\n",
        "            plt.title(f\"Feature Importance for Score Function: {score_func.__name__}\")\n",
        "            plt.xlabel(\"Feature Index\")\n",
        "            plt.ylabel(\"Score\")\n",
        "            plt.show()"
      ],
      "metadata": {
        "id": "OSdK3laXUymW"
      },
      "execution_count": null,
      "outputs": []
    },
    {
      "cell_type": "code",
      "source": [
        "dir = \"/content/drive/MyDrive/Colab Notebooks/datasets/breast_cancer_all_categorical.csv\"\n",
        "filter_based_FS(dir, score_funcs=[f_classif, chi2])"
      ],
      "metadata": {
        "colab": {
          "base_uri": "https://localhost:8080/",
          "height": 1000
        },
        "id": "5havCxm-V1NI",
        "outputId": "542026e2-4500-4b19-c2fd-552d4179b060"
      },
      "execution_count": null,
      "outputs": [
        {
          "output_type": "stream",
          "name": "stdout",
          "text": [
            "Features and Scores for Score Function: f_classif\n",
            "Feature: 5 Score: 12.47028588356106\n",
            "Feature: 3 Score: 11.397986171323902\n",
            "Feature: 8 Score: 8.794624481304718\n",
            "Feature: 4 Score: 6.900353678149434\n",
            "Feature: 2 Score: 6.510560666845982\n",
            "Feature: 7 Score: 3.731022010290476\n",
            "Feature: 6 Score: 1.8861077130075228\n",
            "Feature: 1 Score: 0.35568561311861524\n",
            "Feature: 0 Score: 0.26461155079705156\n"
          ]
        },
        {
          "output_type": "display_data",
          "data": {
            "text/plain": [
              "<Figure size 800x600 with 1 Axes>"
            ],
            "image/png": "[encoded data removed]"
          },
          "metadata": {}
        },
        {
          "output_type": "stream",
          "name": "stdout",
          "text": [
            "Features and Scores for Score Function: chi2\n",
            "Feature: 3 Score: 32.68733535967579\n",
            "Feature: 2 Score: 7.452456538170814\n",
            "Feature: 4 Score: 7.08172757475083\n",
            "Feature: 8 Score: 6.390577507598783\n",
            "Feature: 5 Score: 6.182161361954114\n",
            "Feature: 7 Score: 2.488369152970925\n",
            "Feature: 6 Score: 1.0131493506493503\n",
            "Feature: 1 Score: 0.325404644616467\n",
            "Feature: 0 Score: 0.1042296918767511\n"
          ]
        },
        {
          "output_type": "display_data",
          "data": {
            "text/plain": [
              "<Figure size 800x600 with 1 Axes>"
            ],
            "image/png": "[encoded data removed]"
          },
          "metadata": {}
        }
      ]
    },
    {
      "cell_type": "code",
      "source": [
        "def filter_based_FS(dir, score_funcs, test_size=0.33, plot=True):\n",
        "    # Load Dataset\n",
        "    df = pd.read_csv(dir)\n",
        "    df_values = df.values\n",
        "    samples = df_values[:,:-1]\n",
        "    samples = samples.astype(str)\n",
        "    target = df_values[:,-1]\n",
        "\n",
        "    # Split Dataset\n",
        "    x_train, x_test, y_train, y_test = train_test_split(samples, target, test_size=test_size, random_state=1)\n",
        "\n",
        "    # Encoding\n",
        "    encoder_model = OrdinalEncoder()\n",
        "    X_train = encoder_model.fit_transform(x_train)\n",
        "    X_test = encoder_model.fit_transform(x_test)\n",
        "\n",
        "    encoder_model = LabelEncoder()\n",
        "    Y_train = encoder_model.fit_transform(y_train)\n",
        "    Y_test = encoder_model.fit_transform(y_test)\n",
        "\n",
        "    plt.figure(figsize=(15, 5))\n",
        "    for idx, score_func in enumerate(score_funcs, start=1):\n",
        "        # Filter Based Methods\n",
        "        model = SelectKBest(score_func=score_func, k='all')\n",
        "        model.fit(X_train, Y_train)\n",
        "        x_train_model = model.transform(X_train)\n",
        "        x_test_model = model.transform(X_test)\n",
        "\n",
        "        # Plot Results\n",
        "        output = pd.Series(model.scores_)\n",
        "        output = output.sort_values(ascending=False)\n",
        "\n",
        "        print(f\"Features and Scores for Score Function: {score_func.__name__}\")\n",
        "        feature_scores = {\"Feature\": [], \"Score\": []}\n",
        "        for i, out in enumerate(output):\n",
        "            print(f\"Feature: {output.index[i]} Score: {out}\")\n",
        "            feature_scores[\"Feature\"].append(output.index[i])\n",
        "            feature_scores[\"Score\"].append(out)\n",
        "\n",
        "        # Plot subplot\n",
        "        plt.subplot(1, len(score_funcs), idx)\n",
        "        plt.bar([i for i in range(len(model.scores_))], model.scores_)\n",
        "        plt.title(f\"Feature Importance for Score Function: {score_func.__name__}\")\n",
        "        plt.xlabel(\"Feature Index\")\n",
        "        plt.ylabel(\"Score\")\n",
        "\n",
        "    plt.tight_layout()\n",
        "    plt.show()\n"
      ],
      "metadata": {
        "id": "4CM7akM2V9Oa"
      },
      "execution_count": null,
      "outputs": []
    },
    {
      "cell_type": "code",
      "source": [
        "dir = \"/content/drive/MyDrive/Colab Notebooks/datasets/breast_cancer_all_categorical.csv\"\n",
        "filter_based_FS(dir, score_funcs=[f_classif, chi2, mutual_info_classif])"
      ],
      "metadata": {
        "colab": {
          "base_uri": "https://localhost:8080/",
          "height": 920
        },
        "id": "uCEwXn5kWqTG",
        "outputId": "4905f48d-6480-4c89-ad67-5267213544ce"
      },
      "execution_count": null,
      "outputs": [
        {
          "output_type": "stream",
          "name": "stdout",
          "text": [
            "Features and Scores for Score Function: f_classif\n",
            "Feature: 5 Score: 12.47028588356106\n",
            "Feature: 3 Score: 11.397986171323902\n",
            "Feature: 8 Score: 8.794624481304718\n",
            "Feature: 4 Score: 6.900353678149434\n",
            "Feature: 2 Score: 6.510560666845982\n",
            "Feature: 7 Score: 3.731022010290476\n",
            "Feature: 6 Score: 1.8861077130075228\n",
            "Feature: 1 Score: 0.35568561311861524\n",
            "Feature: 0 Score: 0.26461155079705156\n",
            "Features and Scores for Score Function: chi2\n",
            "Feature: 3 Score: 32.68733535967579\n",
            "Feature: 2 Score: 7.452456538170814\n",
            "Feature: 4 Score: 7.08172757475083\n",
            "Feature: 8 Score: 6.390577507598783\n",
            "Feature: 5 Score: 6.182161361954114\n",
            "Feature: 7 Score: 2.488369152970925\n",
            "Feature: 6 Score: 1.0131493506493503\n",
            "Feature: 1 Score: 0.325404644616467\n",
            "Feature: 0 Score: 0.1042296918767511\n",
            "Features and Scores for Score Function: mutual_info_classif\n",
            "Feature: 1 Score: 0.06519332542473188\n",
            "Feature: 2 Score: 0.029038732994797867\n",
            "Feature: 4 Score: 0.024642714138209287\n",
            "Feature: 6 Score: 0.019407414939877965\n",
            "Feature: 0 Score: 0.017589055764201333\n",
            "Feature: 3 Score: 0.0007622926218529003\n",
            "Feature: 5 Score: 0.0\n",
            "Feature: 7 Score: 0.0\n",
            "Feature: 8 Score: 0.0\n"
          ]
        },
        {
          "output_type": "display_data",
          "data": {
            "text/plain": [
              "<Figure size 1500x500 with 3 Axes>"
            ],
            "image/png": "[encoded data removed]"
          },
          "metadata": {}
        }
      ]
    },
    {
      "cell_type": "code",
      "source": [],
      "metadata": {
        "id": "mGnXs-hz1WxJ"
      },
      "execution_count": null,
      "outputs": []
    }
  ]
}